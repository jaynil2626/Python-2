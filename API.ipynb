{
 "cells": [
  {
   "cell_type": "code",
   "execution_count": 1,
   "metadata": {},
   "outputs": [],
   "source": [
    "import requests, json"
   ]
  },
  {
   "cell_type": "code",
   "execution_count": 2,
   "metadata": {},
   "outputs": [],
   "source": [
    "api_key = 'ed07117e77b06868246fa85a84a8254e'\n",
    "city = 'Ahmedabad'\n",
    "url = f'http://api.openweathermap.org/geo/1.0/direct?q={city}&appid={api_key}'"
   ]
  },
  {
   "cell_type": "code",
   "execution_count": 3,
   "metadata": {},
   "outputs": [],
   "source": [
    "respond = requests.get(url)"
   ]
  },
  {
   "cell_type": "code",
   "execution_count": 4,
   "metadata": {},
   "outputs": [],
   "source": [
    "cord = respond.json()"
   ]
  },
  {
   "cell_type": "code",
   "execution_count": 5,
   "metadata": {},
   "outputs": [
    {
     "data": {
      "text/plain": [
       "[{'name': 'Ahmedabad',\n",
       "  'local_names': {'ascii': 'Ahmedabad',\n",
       "   'ur': 'احمد آباد',\n",
       "   'ml': 'അഹമ്മദാബാദ്',\n",
       "   'uk': 'Ахмедабад',\n",
       "   'cs': 'Ahmadábád',\n",
       "   'pa': 'ਅਹਿਮਦਾਬਾਦ',\n",
       "   'gu': 'અમદાવાદ',\n",
       "   'oc': 'Ahmadabad',\n",
       "   'hi': 'अहमदाबाद',\n",
       "   'ru': 'Ахмадабад',\n",
       "   'mr': 'अहमदाबाद',\n",
       "   'ta': 'அகமதாபாத்',\n",
       "   'de': 'Ahmedabad',\n",
       "   'kn': 'ಅಹ್ಮದಾಬಾದ್',\n",
       "   'zh': '艾哈迈达巴德',\n",
       "   'or': 'ଅହମଦାବାଦ',\n",
       "   'feature_name': 'Ahmedabad',\n",
       "   'eo': 'Ahmadabado',\n",
       "   'he': 'אחמדאבאד',\n",
       "   'pl': 'Ahmadabad',\n",
       "   'ja': 'アフマダーバード',\n",
       "   'ar': 'أحمد آباد',\n",
       "   'te': 'అహ్మదాబాద్',\n",
       "   'en': 'Ahmedabad'},\n",
       "  'lat': 23.0216238,\n",
       "  'lon': 72.5797068,\n",
       "  'country': 'IN',\n",
       "  'state': 'Gujarat'}]"
      ]
     },
     "execution_count": 5,
     "metadata": {},
     "output_type": "execute_result"
    }
   ],
   "source": [
    "cord"
   ]
  },
  {
   "cell_type": "code",
   "execution_count": 9,
   "metadata": {},
   "outputs": [],
   "source": [
    "lat =  cord[0]['lat']"
   ]
  },
  {
   "cell_type": "code",
   "execution_count": 10,
   "metadata": {},
   "outputs": [],
   "source": [
    "lon = cord[0]['lon']"
   ]
  },
  {
   "cell_type": "code",
   "execution_count": 11,
   "metadata": {},
   "outputs": [
    {
     "name": "stdout",
     "output_type": "stream",
     "text": [
      "23.0216238 72.5797068\n"
     ]
    }
   ],
   "source": [
    "print(lat,lon)"
   ]
  },
  {
   "cell_type": "markdown",
   "metadata": {},
   "source": [
    "# Current weather data\n",
    "find pressure, temp, himidity, visibility, wind speed, weather decription"
   ]
  },
  {
   "cell_type": "code",
   "execution_count": 14,
   "metadata": {},
   "outputs": [],
   "source": [
    "url = f\"https://api.openweathermap.org/data/2.5/weather?lat={lat}&lon={lon}&appid={api_key}\"\n",
    "\n",
    "respond = requests.get(url)\n",
    "cord = respond.json()"
   ]
  },
  {
   "cell_type": "code",
   "execution_count": 20,
   "metadata": {},
   "outputs": [
    {
     "data": {
      "text/plain": [
       "{'coord': {'lon': 72.5797, 'lat': 23.0216},\n",
       " 'weather': [{'id': 803,\n",
       "   'main': 'Clouds',\n",
       "   'description': 'broken clouds',\n",
       "   'icon': '04d'}],\n",
       " 'base': 'stations',\n",
       " 'main': {'temp': 308.53,\n",
       "  'feels_like': 313.16,\n",
       "  'temp_min': 308.53,\n",
       "  'temp_max': 308.53,\n",
       "  'pressure': 999,\n",
       "  'humidity': 46,\n",
       "  'sea_level': 999,\n",
       "  'grnd_level': 994},\n",
       " 'visibility': 10000,\n",
       " 'wind': {'speed': 4.56, 'deg': 259, 'gust': 4.93},\n",
       " 'clouds': {'all': 53},\n",
       " 'dt': 1748494442,\n",
       " 'sys': {'country': 'IN', 'sunrise': 1748478272, 'sunset': 1748526598},\n",
       " 'timezone': 19800,\n",
       " 'id': 1279233,\n",
       " 'name': 'Ahmedabad',\n",
       " 'cod': 200}"
      ]
     },
     "execution_count": 20,
     "metadata": {},
     "output_type": "execute_result"
    }
   ],
   "source": [
    "cord"
   ]
  },
  {
   "cell_type": "code",
   "execution_count": 22,
   "metadata": {},
   "outputs": [],
   "source": [
    "pressure = cord['main']['pressure']"
   ]
  },
  {
   "cell_type": "code",
   "execution_count": 23,
   "metadata": {},
   "outputs": [],
   "source": [
    "temp = cord['main']['temp']"
   ]
  },
  {
   "cell_type": "code",
   "execution_count": 24,
   "metadata": {},
   "outputs": [],
   "source": [
    "humidity = cord['main']['humidity']"
   ]
  },
  {
   "cell_type": "code",
   "execution_count": 25,
   "metadata": {},
   "outputs": [],
   "source": [
    "visibility = cord['visibility']"
   ]
  },
  {
   "cell_type": "code",
   "execution_count": 26,
   "metadata": {},
   "outputs": [],
   "source": [
    "wind_speed = cord['wind']['speed']"
   ]
  },
  {
   "cell_type": "code",
   "execution_count": 28,
   "metadata": {},
   "outputs": [],
   "source": [
    "desc = cord['weather'][0]['description']"
   ]
  },
  {
   "cell_type": "code",
   "execution_count": 33,
   "metadata": {},
   "outputs": [
    {
     "name": "stdout",
     "output_type": "stream",
     "text": [
      "Pressure:  999\n",
      "Temperature:  308.53\n",
      "Humidity:  46\n",
      "Visibility:  10000\n",
      "Wind Speed:  4.56\n",
      "Weather Description:  broken clouds\n"
     ]
    }
   ],
   "source": [
    "print(\"Pressure: \", pressure)\n",
    "print(\"Temperature: \", temp)\n",
    "print(\"Humidity: \", humidity)\n",
    "print(\"Visibility: \", visibility)\n",
    "print(\"Wind Speed: \", wind_speed)\n",
    "print(\"Weather Description: \", desc)"
   ]
  },
  {
   "cell_type": "markdown",
   "metadata": {},
   "source": [
    "# Air Pollution API\n",
    "### Print AQI SO2 and NO2"
   ]
  },
  {
   "cell_type": "code",
   "execution_count": 34,
   "metadata": {},
   "outputs": [],
   "source": [
    "url = f\"http://api.openweathermap.org/data/2.5/air_pollution?lat={lat}&lon={lon}&appid={api_key}\""
   ]
  },
  {
   "cell_type": "code",
   "execution_count": 35,
   "metadata": {},
   "outputs": [],
   "source": [
    "respond = requests.get(url)\n",
    "cord = respond.json()"
   ]
  },
  {
   "cell_type": "code",
   "execution_count": 36,
   "metadata": {},
   "outputs": [
    {
     "data": {
      "text/plain": [
       "{'coord': {'lon': 72.5797, 'lat': 23.0216},\n",
       " 'list': [{'main': {'aqi': 3},\n",
       "   'components': {'co': 113.73,\n",
       "    'no': 0.26,\n",
       "    'no2': 1.75,\n",
       "    'o3': 64.93,\n",
       "    'so2': 2.27,\n",
       "    'pm2_5': 25.87,\n",
       "    'pm10': 96.56,\n",
       "    'nh3': 0.81},\n",
       "   'dt': 1748495267}]}"
      ]
     },
     "execution_count": 36,
     "metadata": {},
     "output_type": "execute_result"
    }
   ],
   "source": [
    "cord"
   ]
  },
  {
   "cell_type": "code",
   "execution_count": 37,
   "metadata": {},
   "outputs": [
    {
     "name": "stdout",
     "output_type": "stream",
     "text": [
      "AQI:  3\n",
      "SO2:  2.27\n",
      "NO2:  1.75\n"
     ]
    }
   ],
   "source": [
    "print(\"AQI: \", cord['list'][0]['main']['aqi'])\n",
    "print(\"SO2: \", cord['list'][0]['components']['so2'])\n",
    "print(\"NO2: \", cord['list'][0]['components']['no2'])"
   ]
  }
 ],
 "metadata": {
  "kernelspec": {
   "display_name": "Python 3",
   "language": "python",
   "name": "python3"
  },
  "language_info": {
   "codemirror_mode": {
    "name": "ipython",
    "version": 3
   },
   "file_extension": ".py",
   "mimetype": "text/x-python",
   "name": "python",
   "nbconvert_exporter": "python",
   "pygments_lexer": "ipython3",
   "version": "3.8.5"
  }
 },
 "nbformat": 4,
 "nbformat_minor": 4
}
