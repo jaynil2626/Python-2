{
 "cells": [
  {
   "cell_type": "code",
   "execution_count": 1,
   "metadata": {},
   "outputs": [],
   "source": [
    "import socket"
   ]
  },
  {
   "cell_type": "code",
   "execution_count": 5,
   "metadata": {},
   "outputs": [
    {
     "name": "stdout",
     "output_type": "stream",
     "text": [
      "Overwriting server1.py\n"
     ]
    }
   ],
   "source": [
    "%%writefile server1.py\n",
    "\n",
    "import socket\n",
    "host = 'localhost'\n",
    "port = 65432\n",
    "\n",
    "with socket.socket() as s:\n",
    "    s.bind((host,port))\n",
    "    s.listen()\n",
    "    conn,addr = s.accept()\n",
    "    with conn:\n",
    "        print(f'connected by {addr}')\n",
    "        with open('new.ipynb','wb') as f:\n",
    "            while True:\n",
    "                data = conn.recv(4096)\n",
    "                if not data:\n",
    "                    break\n",
    "                f.write(data)\n",
    "        print(\"File Recieved !\")"
   ]
  },
  {
   "cell_type": "markdown",
   "metadata": {},
   "source": [
    "# NOT IN SYLLABUS\n",
    "### Transfer of ipynb file from one pc to another\n"
   ]
  },
  {
   "cell_type": "code",
   "execution_count": 6,
   "metadata": {},
   "outputs": [
    {
     "name": "stdout",
     "output_type": "stream",
     "text": [
      "Overwriting client1.py\n"
     ]
    }
   ],
   "source": [
    "%%writefile client1.py\n",
    "\n",
    "import socket\n",
    "host = 'localhost'\n",
    "port = 65432\n",
    "\n",
    "with socket.socket() as s:\n",
    "    s.connect((host,port))\n",
    "    with open(\"28 May 1T3.ipynb\",\"rb\") as f:\n",
    "        s.sendfile(f)\n",
    "    print(\"sent\")"
   ]
  },
  {
   "cell_type": "markdown",
   "metadata": {},
   "source": [
    "# UDP Starts Here"
   ]
  },
  {
   "cell_type": "code",
   "execution_count": 8,
   "metadata": {},
   "outputs": [
    {
     "name": "stdout",
     "output_type": "stream",
     "text": [
      "Overwriting udpserver.py\n"
     ]
    }
   ],
   "source": [
    "%%writefile udpserver.py\n",
    "from socket import *\n",
    "\n",
    "host = 'localhost'\n",
    "port = 7001\n",
    "\n",
    "add = (host, port)\n",
    "udpSerSock = socket(type=SOCK_DGRAM)\n",
    "udpSerSock.bind(add)\n",
    "while True:\n",
    "    print('waiting for message...')\n",
    "    data, addr = udpSerSock.recvfrom(1024)\n",
    "    print('Received ',data.decode(),' - from and returnedto:', addr)\n",
    "    msg = input('Enter message: ')\n",
    "    udpSerSock.sendto(msg.encode(), addr)\n",
    "udpSerSock.close()"
   ]
  },
  {
   "cell_type": "code",
   "execution_count": 10,
   "metadata": {},
   "outputs": [
    {
     "name": "stdout",
     "output_type": "stream",
     "text": [
      "Overwriting udpclient.py\n"
     ]
    }
   ],
   "source": [
    "%%writefile udpclient.py\n",
    "\n",
    "from socket import *\n",
    "\n",
    "host = 'localhost'\n",
    "port = 7001\n",
    "\n",
    "add = (host, port)\n",
    "udpCliSock = socket(type=SOCK_DGRAM)\n",
    "while True:\n",
    "    data = input('Enter Data To Send: ')\n",
    "    if not data:\n",
    "        break\n",
    "    udpCliSock.sendto(data.encode(), add)\n",
    "    print(\"Ready to receive data\")\n",
    "    data, ADDR = udpCliSock.recvfrom(1024)\n",
    "    if not data:\n",
    "        break\n",
    "    print(\"Received : \", data.decode())\n",
    "udpCliSock.close()"
   ]
  },
  {
   "cell_type": "code",
   "execution_count": null,
   "metadata": {},
   "outputs": [],
   "source": [
    "%%writefile server_http.py\n",
    "\n",
    "from socket import *\n",
    "\n",
    "server = socket.socket()\n",
    "server.bind(('localhost',9000))\n",
    "server.listen()\n",
    "while(1):\n",
    "    (client, add) = server.accept()\n",
    "    data = client.recv(5000).decode()\n",
    "    print(data)\n",
    "    data = \"HTTP/1.1 200 OK\\r\\n\"\n",
    "    data += \"Content-Type: text/html; charset=utf-8\\r\\n\"\n",
    "    data += \"\\r\\n\"\n",
    "    data += \"<html><body>Hello World</body></html>\\r\\n\\r\\n\"\n",
    "    client.send(data.encode())\n",
    "server.close()"
   ]
  },
  {
   "cell_type": "markdown",
   "metadata": {},
   "source": [
    "# udp server client\n",
    "# tcp server client\n",
    "# web server client\n",
    "\n",
    "# this 6 codes are imp"
   ]
  },
  {
   "cell_type": "code",
   "execution_count": null,
   "metadata": {},
   "outputs": [],
   "source": []
  }
 ],
 "metadata": {
  "kernelspec": {
   "display_name": "Python 3",
   "language": "python",
   "name": "python3"
  },
  "language_info": {
   "codemirror_mode": {
    "name": "ipython",
    "version": 3
   },
   "file_extension": ".py",
   "mimetype": "text/x-python",
   "name": "python",
   "nbconvert_exporter": "python",
   "pygments_lexer": "ipython3",
   "version": "3.8.5"
  }
 },
 "nbformat": 4,
 "nbformat_minor": 4
}
