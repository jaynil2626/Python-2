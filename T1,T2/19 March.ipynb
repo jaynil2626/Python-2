{
 "cells": [
  {
   "cell_type": "code",
   "execution_count": 47,
   "metadata": {},
   "outputs": [],
   "source": [
    "import pandas as pd\n",
    "import numpy as np\n"
   ]
  },
  {
   "cell_type": "code",
   "execution_count": 3,
   "metadata": {},
   "outputs": [
    {
     "name": "stdout",
     "output_type": "stream",
     "text": [
      "0    Vishal\n",
      "1     Ravit\n",
      "2       MVP\n",
      "dtype: object\n"
     ]
    }
   ],
   "source": [
    "ds = pd.Series(['Vishal','Ravit','MVP'])\n",
    "print(ds)"
   ]
  },
  {
   "cell_type": "code",
   "execution_count": 8,
   "metadata": {},
   "outputs": [
    {
     "name": "stdout",
     "output_type": "stream",
     "text": [
      "0    10\n",
      "1     9\n",
      "2     9\n",
      "3     8\n",
      "4     8\n",
      "dtype: int64\n",
      "Python    10\n",
      "FSD        9\n",
      "COA        9\n",
      "TOC        8\n",
      "DM         8\n",
      "Name: vishal, dtype: int64\n"
     ]
    }
   ],
   "source": [
    "feedback = [10,9,9,8,8]\n",
    "ds1 = pd.Series(feedback)\n",
    "print(ds1)\n",
    "\n",
    "subject = ['Python','FSD','COA','TOC','DM']\n",
    "ds = pd.Series(feedback, index=subject, name='vishal')\n",
    "print(ds)"
   ]
  },
  {
   "cell_type": "code",
   "execution_count": 11,
   "metadata": {
    "scrolled": true
   },
   "outputs": [
    {
     "name": "stdout",
     "output_type": "stream",
     "text": [
      "Python    10\n",
      "FSD        9\n",
      "COA        8\n",
      "TOC        9\n",
      "DM         8\n",
      "dtype: int64\n",
      "<class 'pandas.core.series.Series'>\n"
     ]
    }
   ],
   "source": [
    "d = {'Python':10, 'FSD':9, 'COA':8, 'TOC':9, 'DM':8}\n",
    "ds = pd.Series(d)\n",
    "print(ds)\n",
    "print(type(ds))"
   ]
  },
  {
   "cell_type": "code",
   "execution_count": 23,
   "metadata": {},
   "outputs": [
    {
     "name": "stdout",
     "output_type": "stream",
     "text": [
      "   Roll  Python  FSD  COA  TOC\n",
      "0     1      10    8    9   10\n",
      "1     2       9    9    7    9\n",
      "2     3       8    7    5    8\n",
      "3     4       9    5    9    7\n",
      "4     5       9    6    7    9\n",
      "5     6       8   10    9    6\n",
      "6     7       9    9    9    8\n",
      "7     8       8    8    8    9\n",
      "8     9       9    7   10    4\n",
      "9    10       8    9    9    9\n"
     ]
    }
   ],
   "source": [
    "ds = pd.read_csv(\"Jaynil.csv\")\n",
    "print(ds)"
   ]
  },
  {
   "cell_type": "code",
   "execution_count": 19,
   "metadata": {},
   "outputs": [
    {
     "name": "stdout",
     "output_type": "stream",
     "text": [
      "        Roll  Marks  Grade\n",
      "jaynil     1     10      9\n",
      "ayush      2      9      8\n",
      "paresh     3     10      9\n"
     ]
    }
   ],
   "source": [
    "l = [ [1,10,9], [2,9,8], [3,10,9]]\n",
    "x = pd.DataFrame(l, index=['jaynil','ayush','paresh'], columns=['Roll','Marks','Grade'])\n",
    "print(x)"
   ]
  },
  {
   "cell_type": "code",
   "execution_count": 22,
   "metadata": {},
   "outputs": [
    {
     "name": "stdout",
     "output_type": "stream",
     "text": [
      "        Roll  Marks  Grade\n",
      "jaynil     1      2      3\n",
      "ayush     10      9     10\n",
      "paresh     9      8      9\n"
     ]
    }
   ],
   "source": [
    "d = {\"Roll\": [1,10,9], \"Marks\":[2,9,8], \"Grade\":[3,10,9]}\n",
    "x = pd.DataFrame(d,  index=['jaynil','ayush','paresh'])\n",
    "print(x)"
   ]
  },
  {
   "cell_type": "code",
   "execution_count": 39,
   "metadata": {},
   "outputs": [
    {
     "name": "stdout",
     "output_type": "stream",
     "text": [
      "      Python  FSD  COA  TOC Remarks\n",
      "Roll                               \n",
      "1         10    8    9   10       A\n",
      "2          9    9    7    9       B\n",
      "3          8    7    5    8       C\n",
      "4          9    5    9    7       D\n",
      "5          9    6    7    9       A\n",
      "6          8   10    9    6       C\n",
      "7          9    9    9    8       D\n",
      "8          8    8    8    9       B\n",
      "9          9    7   10    4       A\n",
      "10         8    9    9    9       D\n",
      "Python      int64\n",
      "FSD         int64\n",
      "COA         int64\n",
      "TOC         int64\n",
      "Remarks    object\n",
      "dtype: object\n",
      "Index([1, 2, 3, 4, 5, 6, 7, 8, 9, 10], dtype='int64', name='Roll')\n"
     ]
    }
   ],
   "source": [
    "ds = pd.read_csv(\"Jaynil.csv\")\n",
    "#print(ds)\n",
    "ds.set_index('Roll',inplace = True)\n",
    "print(ds)\n"
   ]
  },
  {
   "cell_type": "code",
   "execution_count": 48,
   "metadata": {},
   "outputs": [
    {
     "name": "stdout",
     "output_type": "stream",
     "text": [
      "Python      int64\n",
      "FSD         int64\n",
      "COA         int64\n",
      "TOC         int64\n",
      "Remarks    object\n",
      "dtype: object\n",
      "Index([1, 2, 3, 4, 5, 6, 7, 8, 9, 10], dtype='int64', name='Roll')\n",
      "Index(['Python', 'FSD', 'COA', 'TOC', 'Remarks'], dtype='object')\n",
      "[Index([1, 2, 3, 4, 5, 6, 7, 8, 9, 10], dtype='int64', name='Roll'), Index(['Python', 'FSD', 'COA', 'TOC', 'Remarks'], dtype='object')]\n",
      "[[10 8 9 10 'A']\n",
      " [9 9 7 9 'B']\n",
      " [8 7 5 8 'C']\n",
      " [9 5 9 7 'D']\n",
      " [9 6 7 9 'A']\n",
      " [8 10 9 6 'C']\n",
      " [9 9 9 8 'D']\n",
      " [8 8 8 9 'B']\n",
      " [9 7 10 4 'A']\n",
      " [8 9 9 9 'D']]\n",
      "(10, 5)\n",
      "50\n"
     ]
    }
   ],
   "source": [
    "print(ds.dtypes)\n",
    "print(ds.index)\n",
    "print(ds.columns) # <<IMP\n",
    "print(ds.axes)\n",
    "print(ds.values)\n",
    "print(ds.shape)   # <<IMP\n",
    "print(ds.size)    # <<IMP"
   ]
  }
 ],
 "metadata": {
  "kernelspec": {
   "display_name": "Python 3",
   "language": "python",
   "name": "python3"
  },
  "language_info": {
   "codemirror_mode": {
    "name": "ipython",
    "version": 3
   },
   "file_extension": ".py",
   "mimetype": "text/x-python",
   "name": "python",
   "nbconvert_exporter": "python",
   "pygments_lexer": "ipython3",
   "version": "3.8.5"
  }
 },
 "nbformat": 4,
 "nbformat_minor": 4
}
