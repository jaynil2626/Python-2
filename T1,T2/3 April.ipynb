{
 "cells": [
  {
   "cell_type": "markdown",
   "metadata": {},
   "source": [
    "# WordCloud\n",
    "\n",
    "# aani possibility che 3 marks ma offline ma puche"
   ]
  },
  {
   "cell_type": "code",
   "execution_count": 4,
   "metadata": {},
   "outputs": [
    {
     "name": "stdout",
     "output_type": "stream",
     "text": [
      "{\"here's\", \"she's\", \"hadn't\", 'of', 'like', \"weren't\", 'which', \"we'll\", 'itself', 'between', 'can', 'if', 'own', \"how's\", \"i've\", 'hence', 'down', 'have', 'when', 'ours', 'no', 'with', \"you've\", \"he's\", 'was', 'just', 'should', \"shouldn't\", 'we', \"where's\", 'herself', \"wouldn't\", \"you'd\", 'since', 'being', 'she', 'themselves', 'during', 'yours', 'against', \"won't\", 'an', \"we've\", 'but', 'those', 'who', \"doesn't\", 'could', 'about', 'in', 'its', 'whom', 'then', \"haven't\", 'most', 'up', 'did', 'each', 'only', 'therefore', 'shall', 'or', \"you're\", 'he', \"didn't\", \"she'd\", \"wasn't\", 'otherwise', 'on', 'i', 'yourself', 'else', 'both', \"let's\", 'were', 'while', \"isn't\", \"they're\", 'am', 'that', 'to', 'very', 'off', 'is', 'there', 'himself', 'a', 'cannot', 'below', 'been', 'www', 'had', 'as', \"you'll\", 'ought', \"shan't\", 'such', 'would', \"they've\", 'before', 'all', \"i'll\", 'does', 'do', 'theirs', 'once', 'her', \"he'll\", 'hers', \"they'll\", 'too', 'this', \"why's\", 'the', 'doing', 'get', \"we're\", 'because', 'these', 'they', \"i'd\", \"they'd\", 'my', 'not', \"that's\", 'what', 'some', 'ourselves', 'http', 'them', 'having', 'same', \"mustn't\", 'has', 'you', \"there's\", 'after', 'how', \"she'll\", 'so', \"can't\", 'com', \"i'm\", 'other', 'their', 'any', 'further', 'into', \"who's\", 'for', \"he'd\", 'above', 'until', 'again', 'it', 'k', 'r', \"aren't\", 'yourselves', \"couldn't\", 'myself', 'our', 'where', 'however', 'more', 'from', 'over', \"we'd\", 'under', 'at', 'also', 'ever', 'through', 'are', 'by', 'here', \"don't\", 'out', 'and', 'why', 'few', 'his', 'me', \"when's\", 'your', \"hasn't\", \"what's\", \"it's\", 'than', 'be', 'him', 'nor'}\n"
     ]
    }
   ],
   "source": [
    "from wordcloud import WordCloud, STOPWORDS\n",
    "import matplotlib.pyplot as plt\n",
    "\n",
    "stopwords = set(STOPWORDS)\n",
    "print(stopwords)"
   ]
  },
  {
   "cell_type": "code",
   "execution_count": 23,
   "metadata": {},
   "outputs": [
    {
     "data": {
      "image/png": "[encoded data removed]",
      "text/plain": [
       "<Figure size 432x288 with 1 Axes>"
      ]
     },
     "metadata": {
      "needs_background": "light"
     },
     "output_type": "display_data"
    }
   ],
   "source": [
    "wc = WordCloud(width=800, height=400, max_words=50, background_color='white')\n",
    "s = 'B6 is best. vishal is best b6 vishal is vishal vishal b6 is vishal is best best best , b1 b1 b1 is not so best best best, python is python and fsd is fsd as ps is ps and dm is dm'\n",
    "wc.generate(s)\n",
    "plt.imshow(wc)\n",
    "plt.axis('off')\n",
    "plt.show()"
   ]
  },
  {
   "cell_type": "markdown",
   "metadata": {},
   "source": [
    "# Regular Expression\n"
   ]
  },
  {
   "cell_type": "code",
   "execution_count": 24,
   "metadata": {},
   "outputs": [],
   "source": [
    "import re"
   ]
  },
  {
   "cell_type": "markdown",
   "metadata": {},
   "source": [
    "# [ ]  => set of char included\n",
    "# [^ ] => exclude of char\n",
    "# '^'  => start with\n",
    "# '$'  => end with\n",
    "# '.'  => any char\n",
    "# '*'  => any char\n",
    "# '+'  => zero or more\n",
    "# '?'  => zero or one\n",
    "# {}  => specify range\n",
    "# '|'  => wither or\n",
    "# ()  => group"
   ]
  },
  {
   "cell_type": "code",
   "execution_count": 25,
   "metadata": {},
   "outputs": [
    {
     "name": "stdout",
     "output_type": "stream",
     "text": [
      "['h', 'e', 'a', 'i', 'i', 'a', 'i']\n"
     ]
    }
   ],
   "source": [
    "s = 'the rain in spain'\n",
    "\n",
    "x = re.findall(r'[a-m]',s)\n",
    "print(x)"
   ]
  },
  {
   "cell_type": "code",
   "execution_count": 26,
   "metadata": {},
   "outputs": [
    {
     "name": "stdout",
     "output_type": "stream",
     "text": [
      "['h', 'e', ' ', 'a', 'i', ' ', 'i', ' ', 'a', 'i']\n"
     ]
    }
   ],
   "source": [
    "s = 'the rain in spain'\n",
    "\n",
    "x = re.findall(r'[a-m ]',s)\n",
    "print(x)  # here it counts space"
   ]
  },
  {
   "cell_type": "code",
   "execution_count": 27,
   "metadata": {},
   "outputs": [
    {
     "name": "stdout",
     "output_type": "stream",
     "text": [
      "['h', 'e', 'a', 'i', 'i', 'a', 'i', '2', '4', '5', '3', '4', '4', '5', '3', '1', '1', '2']\n"
     ]
    }
   ],
   "source": [
    "s = 'the rain in spain 2453464563112'\n",
    "\n",
    "x = re.findall(r'[a-m1-5]',s)\n",
    "print(x)  # here it finds number 1 to 5"
   ]
  },
  {
   "cell_type": "code",
   "execution_count": 32,
   "metadata": {},
   "outputs": [
    {
     "name": "stdout",
     "output_type": "stream",
     "text": [
      "5\n",
      "['12', '45', '78', '91', '11']\n"
     ]
    }
   ],
   "source": [
    "text = '123 456 78910 11'\n",
    "y = re.findall(r'[0-9][0-9]', text)\n",
    "print(len(y))\n",
    "print(y)"
   ]
  },
  {
   "cell_type": "code",
   "execution_count": 31,
   "metadata": {},
   "outputs": [
    {
     "name": "stdout",
     "output_type": "stream",
     "text": [
      "5\n",
      "[' r', 'in', 'in', ' s', 'in']\n"
     ]
    }
   ],
   "source": [
    "s = 'the rain in spain123'\n",
    "\n",
    "x = re.findall(r'[a-m ][n-z]',s)\n",
    "print(len(x))\n",
    "print(x)"
   ]
  },
  {
   "cell_type": "code",
   "execution_count": 33,
   "metadata": {},
   "outputs": [
    {
     "name": "stdout",
     "output_type": "stream",
     "text": [
      "1\n",
      "['7891']\n"
     ]
    }
   ],
   "source": [
    "text = '123 456 78910 11'\n",
    "y = re.findall(r'[0-9][0-9][0-9][0-9]', text)\n",
    "print(len(y))\n",
    "print(y)"
   ]
  },
  {
   "cell_type": "code",
   "execution_count": 39,
   "metadata": {},
   "outputs": [
    {
     "name": "stdout",
     "output_type": "stream",
     "text": [
      "['t', ' ', 'r', 'n', ' ', 'n', ' ', 's', 'p', 'n', '1', '2', '3']\n",
      "['h', 'e', 'a', 'i', 'i', 'a', 'i']\n"
     ]
    }
   ],
   "source": [
    "s = 'the rain in spain123'\n",
    "\n",
    "x = re.findall(r'[^a-m]',s)  # because if this \"^\" a-m shivay na badha j aavse\n",
    "y = re.findall(r'[a-m]',s)\n",
    "print(x)\n",
    "print(y)"
   ]
  },
  {
   "cell_type": "code",
   "execution_count": 45,
   "metadata": {},
   "outputs": [
    {
     "name": "stdout",
     "output_type": "stream",
     "text": [
      "['th']\n"
     ]
    }
   ],
   "source": [
    "s = 'the rain in spain123'\n",
    "\n",
    "x = re.findall(r'^th',s) # starts with 'th'\n",
    "print(x)"
   ]
  },
  {
   "cell_type": "code",
   "execution_count": 48,
   "metadata": {},
   "outputs": [
    {
     "name": "stdout",
     "output_type": "stream",
     "text": [
      "['23']\n"
     ]
    }
   ],
   "source": [
    "s = 'the rain in spain123'\n",
    "\n",
    "x = re.findall(r'23$',s) # ends with 'th'\n",
    "print(x)"
   ]
  },
  {
   "cell_type": "code",
   "execution_count": 50,
   "metadata": {},
   "outputs": [
    {
     "name": "stdout",
     "output_type": "stream",
     "text": [
      "['helo', 'helo']\n"
     ]
    }
   ],
   "source": [
    "s = \"hello helo helo heo ho h o\"\n",
    "x = re.findall(r'h..o', s)  # 'h' thi start thay 'o' thi end thay and vacche koi pan 2 character\n",
    "print(x)"
   ]
  },
  {
   "cell_type": "code",
   "execution_count": 56,
   "metadata": {},
   "outputs": [
    {
     "name": "stdout",
     "output_type": "stream",
     "text": [
      "['hello helo helo heo ho h o']\n",
      "1\n"
     ]
    }
   ],
   "source": [
    "s = \"hello helo helo heo ho h o\"\n",
    "x = re.findall(r'h.*o', s)  \n",
    "print(x)\n",
    "print(len(x))"
   ]
  },
  {
   "cell_type": "code",
   "execution_count": 53,
   "metadata": {},
   "outputs": [
    {
     "name": "stdout",
     "output_type": "stream",
     "text": [
      "['hello helo helo heo ho h o']\n"
     ]
    }
   ],
   "source": [
    "s = \"hello helo helo heo ho h o\"\n",
    "x = re.findall(r'h.+o', s)  \n",
    "print(x)\n",
    "print(len(x))"
   ]
  },
  {
   "cell_type": "code",
   "execution_count": 57,
   "metadata": {},
   "outputs": [
    {
     "name": "stdout",
     "output_type": "stream",
     "text": [
      "['o', 'o', 'o', 'o', 'ho', 'o']\n"
     ]
    }
   ],
   "source": [
    "s = \"hello helo helo heo ho h o\"\n",
    "x = re.findall(r'h?o', s)  \n",
    "print(x)"
   ]
  },
  {
   "cell_type": "code",
   "execution_count": 60,
   "metadata": {},
   "outputs": [
    {
     "name": "stdout",
     "output_type": "stream",
     "text": [
      "['hello', 'helo', 'helo', 'heo ho', 'h o']\n"
     ]
    }
   ],
   "source": [
    "s = \"hello helo helo heo ho h o\"\n",
    "x = re.findall(r'h.{1,4}o', s)  \n",
    "print(x)"
   ]
  },
  {
   "cell_type": "code",
   "execution_count": 61,
   "metadata": {},
   "outputs": [
    {
     "name": "stdout",
     "output_type": "stream",
     "text": [
      "['h', 'o', 'h', 'o', 'h', 'o', 'h', 'o', 'h', 'o', 'h', 'o']\n"
     ]
    }
   ],
   "source": [
    "s = \"hello helo helo heo ho h o\"\n",
    "x = re.findall(r'h|o', s)  \n",
    "print(x)"
   ]
  },
  {
   "cell_type": "code",
   "execution_count": 63,
   "metadata": {},
   "outputs": [
    {
     "name": "stdout",
     "output_type": "stream",
     "text": [
      "['bl']\n"
     ]
    }
   ],
   "source": [
    "s = 'black, blue green Black'\n",
    "x = re.findall(r'\\Abl', s)\n",
    "print(x)"
   ]
  },
  {
   "cell_type": "code",
   "execution_count": 64,
   "metadata": {},
   "outputs": [
    {
     "name": "stdout",
     "output_type": "stream",
     "text": [
      "['bl', 'bl']\n"
     ]
    }
   ],
   "source": [
    "s = 'black, blue green Black'\n",
    "x = re.findall(r'\\bbl', s)\n",
    "print(x)"
   ]
  },
  {
   "cell_type": "code",
   "execution_count": 65,
   "metadata": {},
   "outputs": [
    {
     "name": "stdout",
     "output_type": "stream",
     "text": [
      "['black']\n"
     ]
    }
   ],
   "source": [
    "s = 'black, blue green Black'\n",
    "x = re.findall(r'\\bbl\\w{3}', s)\n",
    "print(x)"
   ]
  },
  {
   "cell_type": "code",
   "execution_count": 66,
   "metadata": {},
   "outputs": [
    {
     "name": "stdout",
     "output_type": "stream",
     "text": [
      "['ck', 'ck']\n"
     ]
    }
   ],
   "source": [
    "s = 'black, blue green Black'\n",
    "x = re.findall(r'ck\\b', s)\n",
    "print(x)"
   ]
  },
  {
   "cell_type": "code",
   "execution_count": 67,
   "metadata": {},
   "outputs": [
    {
     "name": "stdout",
     "output_type": "stream",
     "text": [
      "['bl', 'bl']\n"
     ]
    }
   ],
   "source": [
    "s = 'black, blue green Black'\n",
    "x = re.findall(r'bl', s)\n",
    "print(x)"
   ]
  },
  {
   "cell_type": "code",
   "execution_count": 70,
   "metadata": {},
   "outputs": [
    {
     "name": "stdout",
     "output_type": "stream",
     "text": [
      "<re.Match object; span=(0, 2), match='bl'>\n",
      "bl\n"
     ]
    }
   ],
   "source": [
    "s = 'black, blue green Black'\n",
    "x = re.search(r'bl', s)   # 'search' returns first occurence\n",
    "print(x)\n",
    "print(x.group())"
   ]
  },
  {
   "cell_type": "code",
   "execution_count": 73,
   "metadata": {
    "scrolled": false
   },
   "outputs": [
    {
     "name": "stdout",
     "output_type": "stream",
     "text": [
      "['', 'ack, ', 'ue green Black']\n"
     ]
    }
   ],
   "source": [
    "s = 'black, blue green Black'\n",
    "x = re.split(r'bl', s)   # badha 'bl' ne split karse\n",
    "print(x)"
   ]
  },
  {
   "cell_type": "code",
   "execution_count": 74,
   "metadata": {},
   "outputs": [
    {
     "name": "stdout",
     "output_type": "stream",
     "text": [
      "['', 'ack, blue green Black']\n"
     ]
    }
   ],
   "source": [
    "s = 'black, blue green Black'\n",
    "x = re.split(r'bl', s,1)  # khali pella ajj 'bl' ne split karse\n",
    "print(x)"
   ]
  },
  {
   "cell_type": "code",
   "execution_count": 77,
   "metadata": {},
   "outputs": [
    {
     "name": "stdout",
     "output_type": "stream",
     "text": [
      "vishal10ack, vishal10ue green Black\n"
     ]
    }
   ],
   "source": [
    "s = 'black, blue green Black'\n",
    "x = re.sub(r'bl', 'vishal10',s)  # jya 'bl' cha tya 'vishal10' aavse\n",
    "print(x)"
   ]
  }
 ],
 "metadata": {
  "kernelspec": {
   "display_name": "Python 3",
   "language": "python",
   "name": "python3"
  },
  "language_info": {
   "codemirror_mode": {
    "name": "ipython",
    "version": 3
   },
   "file_extension": ".py",
   "mimetype": "text/x-python",
   "name": "python",
   "nbconvert_exporter": "python",
   "pygments_lexer": "ipython3",
   "version": "3.8.5"
  }
 },
 "nbformat": 4,
 "nbformat_minor": 4
}
