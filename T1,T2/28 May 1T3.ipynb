{
 "cells": [
  {
   "cell_type": "markdown",
   "metadata": {},
   "source": [
    "# Socket  (TCP and UDP)\n",
    "\n",
    "\n",
    "# API\n",
    "\n",
    "# BS4 (9 mark 100%)\n",
    "\n",
    "# DL (3 or 6 marks Offline compulsory coz it need network in online)\n",
    "\n",
    "# (3 socket  OR 3 API  + 3 DL)   OR (6 DL)    "
   ]
  },
  {
   "cell_type": "code",
   "execution_count": 1,
   "metadata": {},
   "outputs": [],
   "source": [
    "import socket "
   ]
  },
  {
   "cell_type": "code",
   "execution_count": 2,
   "metadata": {},
   "outputs": [
    {
     "data": {
      "text/plain": [
       "'407-21'"
      ]
     },
     "execution_count": 2,
     "metadata": {},
     "output_type": "execute_result"
    }
   ],
   "source": [
    "socket.gethostname()"
   ]
  },
  {
   "cell_type": "code",
   "execution_count": 3,
   "metadata": {},
   "outputs": [
    {
     "data": {
      "text/plain": [
       "'192.168.107.21'"
      ]
     },
     "execution_count": 3,
     "metadata": {},
     "output_type": "execute_result"
    }
   ],
   "source": [
    "socket.gethostbyname(socket.gethostname())"
   ]
  },
  {
   "cell_type": "code",
   "execution_count": 11,
   "metadata": {},
   "outputs": [
    {
     "name": "stdout",
     "output_type": "stream",
     "text": [
      "Overwriting server.py\n"
     ]
    }
   ],
   "source": [
    "%%writefile server.py\n",
    "import socket\n",
    "\n",
    "host = \"192.168.107.21\"\n",
    "port = 7001\n",
    "\n",
    "server = socket.socket()\n",
    "\n",
    "server.bind((host,port))\n",
    "\n",
    "server.listen()\n",
    "\n",
    "conn, add = server.accept()\n",
    "\n",
    "print('client add: ', add)\n",
    "\n",
    "while True:\n",
    "    data = conn.recv(1024).decode()\n",
    "    print(data)\n",
    "    if not data:\n",
    "        break\n",
    "    data = input('server to client')\n",
    "    conn.send(data.encode())\n",
    "\n",
    "conn.close()"
   ]
  },
  {
   "cell_type": "code",
   "execution_count": 14,
   "metadata": {},
   "outputs": [
    {
     "name": "stdout",
     "output_type": "stream",
     "text": [
      "Overwriting client.py\n"
     ]
    }
   ],
   "source": [
    "%%writefile client.py\n",
    "import socket\n",
    "\n",
    "host = \"192.168.107.20\"\n",
    "port = 7001\n",
    "\n",
    "client = socket.socket()\n",
    "\n",
    "client.connect((host,port))\n",
    "\n",
    "msg = input(\" client to server\")\n",
    "while msg.lower() != 'bye':\n",
    "    client.send(msg.encode())\n",
    "    data = client.recv(1024).decode()\n",
    "    print(data)\n",
    "    msg = input('client to server')\n",
    "client.close()"
   ]
  },
  {
   "cell_type": "code",
   "execution_count": null,
   "metadata": {},
   "outputs": [],
   "source": []
  }
 ],
 "metadata": {
  "kernelspec": {
   "display_name": "Python 3",
   "language": "python",
   "name": "python3"
  },
  "language_info": {
   "codemirror_mode": {
    "name": "ipython",
    "version": 3
   },
   "file_extension": ".py",
   "mimetype": "text/x-python",
   "name": "python",
   "nbconvert_exporter": "python",
   "pygments_lexer": "ipython3",
   "version": "3.8.5"
  }
 },
 "nbformat": 4,
 "nbformat_minor": 4
}
