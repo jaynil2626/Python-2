{
 "cells": [
  {
   "cell_type": "code",
   "execution_count": 32,
   "metadata": {},
   "outputs": [],
   "source": [
    "import requests\n",
    "from bs4 import BeautifulSoup\n",
    "import pandas as pd"
   ]
  },
  {
   "cell_type": "markdown",
   "metadata": {},
   "source": [
    "# Tasks are from 'exam.docx' ,, uploaded on git"
   ]
  },
  {
   "cell_type": "code",
   "execution_count": 33,
   "metadata": {},
   "outputs": [],
   "source": [
    "import numpy as np\n",
    "\n",
    "with open ('newflipkart.html', 'r', encoding = 'utf-8') as f:\n",
    "    data  = f.read()\n",
    "    \n",
    "soup = BeautifulSoup(data)"
   ]
  },
  {
   "cell_type": "code",
   "execution_count": 34,
   "metadata": {},
   "outputs": [
    {
     "name": "stderr",
     "output_type": "stream",
     "text": [
      "/tmp/ipykernel_11341/51272221.py:1: DeprecationWarning: Call to deprecated method findAll. (Replaced by find_all) -- Deprecated since version 4.0.0.\n",
      "  name = soup.findAll('div', class_='KzDlHZ')\n"
     ]
    },
    {
     "data": {
      "text/plain": [
       "'Apple iPhone 16 (Black, 128 GB)'"
      ]
     },
     "execution_count": 34,
     "metadata": {},
     "output_type": "execute_result"
    }
   ],
   "source": [
    "name = soup.findAll('div', class_='KzDlHZ')\n",
    "name[0].text"
   ]
  },
  {
   "cell_type": "code",
   "execution_count": 35,
   "metadata": {},
   "outputs": [
    {
     "name": "stderr",
     "output_type": "stream",
     "text": [
      "/tmp/ipykernel_11341/3918551907.py:1: DeprecationWarning: Call to deprecated method findAll. (Replaced by find_all) -- Deprecated since version 4.0.0.\n",
      "  memory = soup.findAll('li', class_='J+igdf')\n"
     ]
    },
    {
     "data": {
      "text/plain": [
       "'128 GB ROM15.49 cm (6.1 inch) Super Retina XDR Display48MP + 12MP | 12MP Front CameraA18 Chip, 6 Core Processor Processor1 year warranty for phone and 1 year warranty for in Box Accessories.'"
      ]
     },
     "execution_count": 35,
     "metadata": {},
     "output_type": "execute_result"
    }
   ],
   "source": [
    "memory = soup.findAll('li', class_='J+igdf')\n",
    "memory[0].text"
   ]
  },
  {
   "cell_type": "code",
   "execution_count": 36,
   "metadata": {},
   "outputs": [
    {
     "name": "stderr",
     "output_type": "stream",
     "text": [
      "/tmp/ipykernel_11341/3603637876.py:1: DeprecationWarning: Call to deprecated method findAll. (Replaced by find_all) -- Deprecated since version 4.0.0.\n",
      "  rating = soup.findAll('div', class_='XQDdHH')\n"
     ]
    },
    {
     "data": {
      "text/plain": [
       "'4.6'"
      ]
     },
     "execution_count": 36,
     "metadata": {},
     "output_type": "execute_result"
    }
   ],
   "source": [
    "rating = soup.findAll('div', class_='XQDdHH')\n",
    "rating[0].text"
   ]
  },
  {
   "cell_type": "code",
   "execution_count": 37,
   "metadata": {},
   "outputs": [
    {
     "name": "stderr",
     "output_type": "stream",
     "text": [
      "/tmp/ipykernel_11341/1828115285.py:1: DeprecationWarning: Call to deprecated method findAll. (Replaced by find_all) -- Deprecated since version 4.0.0.\n",
      "  reviews = soup.findAll('span', class_='Wphh3N')\n",
      "/tmp/ipykernel_11341/1828115285.py:2: DeprecationWarning: Call to deprecated method findAll. (Replaced by find_all) -- Deprecated since version 4.0.0.\n",
      "  reviews[0].findAll('span')[3].text.split()[0]\n"
     ]
    },
    {
     "data": {
      "text/plain": [
       "'704'"
      ]
     },
     "execution_count": 37,
     "metadata": {},
     "output_type": "execute_result"
    }
   ],
   "source": [
    "reviews = soup.findAll('span', class_='Wphh3N')\n",
    "reviews[0].findAll('span')[3].text.split()[0]"
   ]
  },
  {
   "cell_type": "code",
   "execution_count": 38,
   "metadata": {},
   "outputs": [
    {
     "name": "stderr",
     "output_type": "stream",
     "text": [
      "/tmp/ipykernel_11341/424709271.py:1: DeprecationWarning: Call to deprecated method findAll. (Replaced by find_all) -- Deprecated since version 4.0.0.\n",
      "  old_p = soup.findAll('div', class_='yRaY8j ZYYwLA')\n"
     ]
    },
    {
     "data": {
      "text/plain": [
       "'₹79,900'"
      ]
     },
     "execution_count": 38,
     "metadata": {},
     "output_type": "execute_result"
    }
   ],
   "source": [
    "old_p = soup.findAll('div', class_='yRaY8j ZYYwLA')\n",
    "old_p[0].text"
   ]
  },
  {
   "cell_type": "code",
   "execution_count": 39,
   "metadata": {},
   "outputs": [
    {
     "name": "stderr",
     "output_type": "stream",
     "text": [
      "/tmp/ipykernel_11341/1147127144.py:1: DeprecationWarning: Call to deprecated method findAll. (Replaced by find_all) -- Deprecated since version 4.0.0.\n",
      "  new_p = soup.findAll('div', class_='Nx9bqj _4b5DiR')\n"
     ]
    },
    {
     "data": {
      "text/plain": [
       "'₹74,900'"
      ]
     },
     "execution_count": 39,
     "metadata": {},
     "output_type": "execute_result"
    }
   ],
   "source": [
    "new_p = soup.findAll('div', class_='Nx9bqj _4b5DiR')\n",
    "new_p[0].text"
   ]
  },
  {
   "cell_type": "code",
   "execution_count": 40,
   "metadata": {},
   "outputs": [
    {
     "name": "stderr",
     "output_type": "stream",
     "text": [
      "/tmp/ipykernel_11341/1342930240.py:1: DeprecationWarning: Call to deprecated method findAll. (Replaced by find_all) -- Deprecated since version 4.0.0.\n",
      "  disc = soup.findAll('div', class_='UkUFwK')\n"
     ]
    },
    {
     "data": {
      "text/plain": [
       "'6% off'"
      ]
     },
     "execution_count": 40,
     "metadata": {},
     "output_type": "execute_result"
    }
   ],
   "source": [
    "disc = soup.findAll('div', class_='UkUFwK')\n",
    "disc[0].text"
   ]
  },
  {
   "cell_type": "code",
   "execution_count": 41,
   "metadata": {},
   "outputs": [
    {
     "name": "stderr",
     "output_type": "stream",
     "text": [
      "/tmp/ipykernel_11341/2264602780.py:4: DeprecationWarning: Call to deprecated method findAll. (Replaced by find_all) -- Deprecated since version 4.0.0.\n",
      "  for i in soup.findAll(\"div\",class_=\"_75nlfW\"):\n",
      "/tmp/ipykernel_11341/2264602780.py:9: DeprecationWarning: Call to deprecated method findAll. (Replaced by find_all) -- Deprecated since version 4.0.0.\n",
      "  dic['Reviews'].append(i.find('span', class_='Wphh3N').findAll('span')[3].text.split()[0])\n"
     ]
    }
   ],
   "source": [
    "dic = {'Name':[], 'Memory':[],'Color':[] , 'Stars':[], 'Reviews':[], 'Old Price':[], 'New Price':[], 'Discount':[]}\n",
    "l=[]\n",
    "iname = []\n",
    "for i in soup.findAll(\"div\",class_=\"_75nlfW\"):\n",
    "    dic['Name'].append(i.find('div', class_='KzDlHZ').text.split('(')[0])\n",
    "    dic['Memory'].append(i.find('div', class_='KzDlHZ').text.split('(')[1].split(',')[1][1:-1])\n",
    "    dic['Color'].append(i.find('div', class_='KzDlHZ').text.split('(')[1].split(',')[0])\n",
    "    dic['Stars'].append(i.find('div', class_='XQDdHH').text)\n",
    "    dic['Reviews'].append(i.find('span', class_='Wphh3N').findAll('span')[3].text.split()[0])\n",
    "    dic['Old Price'].append(int(i.find('div', class_='yRaY8j ZYYwLA').text.split('₹')[1].split(',')[0] + \"\" + i.find('div', class_='yRaY8j ZYYwLA').text.split('₹')[1].split(',')[1]))\n",
    "    dic['New Price'].append(int(i.find('div', class_='Nx9bqj _4b5DiR').text.split('₹')[1].split(',')[0] + \"\" + i.find('div', class_='Nx9bqj _4b5DiR').text.split('₹')[1].split(',')[1]))\n",
    "    dic['Discount'].append(i.find('div', class_='UkUFwK').text.split(' ')[0])"
   ]
  },
  {
   "cell_type": "code",
   "execution_count": 42,
   "metadata": {},
   "outputs": [
    {
     "data": {
      "text/html": [
       "<div>\n",
       "<style scoped>\n",
       "    .dataframe tbody tr th:only-of-type {\n",
       "        vertical-align: middle;\n",
       "    }\n",
       "\n",
       "    .dataframe tbody tr th {\n",
       "        vertical-align: top;\n",
       "    }\n",
       "\n",
       "    .dataframe thead th {\n",
       "        text-align: right;\n",
       "    }\n",
       "</style>\n",
       "<table border=\"1\" class=\"dataframe\">\n",
       "  <thead>\n",
       "    <tr style=\"text-align: right;\">\n",
       "      <th></th>\n",
       "      <th>Name</th>\n",
       "      <th>Memory</th>\n",
       "      <th>Color</th>\n",
       "      <th>Stars</th>\n",
       "      <th>Reviews</th>\n",
       "      <th>Old Price</th>\n",
       "      <th>New Price</th>\n",
       "      <th>Discount</th>\n",
       "    </tr>\n",
       "  </thead>\n",
       "  <tbody>\n",
       "    <tr>\n",
       "      <th>0</th>\n",
       "      <td>Apple iPhone 16</td>\n",
       "      <td>128 GB</td>\n",
       "      <td>Black</td>\n",
       "      <td>4.6</td>\n",
       "      <td>704</td>\n",
       "      <td>79900</td>\n",
       "      <td>74900</td>\n",
       "      <td>6%</td>\n",
       "    </tr>\n",
       "    <tr>\n",
       "      <th>1</th>\n",
       "      <td>Apple iPhone 16</td>\n",
       "      <td>128 GB</td>\n",
       "      <td>Pink</td>\n",
       "      <td>4.6</td>\n",
       "      <td>704</td>\n",
       "      <td>79900</td>\n",
       "      <td>74900</td>\n",
       "      <td>6%</td>\n",
       "    </tr>\n",
       "    <tr>\n",
       "      <th>2</th>\n",
       "      <td>Apple iPhone 13</td>\n",
       "      <td>128 GB</td>\n",
       "      <td>Starlight</td>\n",
       "      <td>4.6</td>\n",
       "      <td>13,902</td>\n",
       "      <td>49900</td>\n",
       "      <td>44999</td>\n",
       "      <td>9%</td>\n",
       "    </tr>\n",
       "    <tr>\n",
       "      <th>3</th>\n",
       "      <td>Apple iPhone 16</td>\n",
       "      <td>128 GB</td>\n",
       "      <td>White</td>\n",
       "      <td>4.6</td>\n",
       "      <td>704</td>\n",
       "      <td>79900</td>\n",
       "      <td>74900</td>\n",
       "      <td>6%</td>\n",
       "    </tr>\n",
       "    <tr>\n",
       "      <th>4</th>\n",
       "      <td>Apple iPhone 16 Plus</td>\n",
       "      <td>128 GB</td>\n",
       "      <td>White</td>\n",
       "      <td>4.6</td>\n",
       "      <td>143</td>\n",
       "      <td>89900</td>\n",
       "      <td>84900</td>\n",
       "      <td>5%</td>\n",
       "    </tr>\n",
       "    <tr>\n",
       "      <th>5</th>\n",
       "      <td>Apple iPhone 16e</td>\n",
       "      <td>128 GB</td>\n",
       "      <td>White</td>\n",
       "      <td>4.6</td>\n",
       "      <td>51</td>\n",
       "      <td>59900</td>\n",
       "      <td>54900</td>\n",
       "      <td>8%</td>\n",
       "    </tr>\n",
       "    <tr>\n",
       "      <th>6</th>\n",
       "      <td>Apple iPhone 16</td>\n",
       "      <td>128 GB</td>\n",
       "      <td>Teal</td>\n",
       "      <td>4.6</td>\n",
       "      <td>704</td>\n",
       "      <td>79900</td>\n",
       "      <td>74900</td>\n",
       "      <td>6%</td>\n",
       "    </tr>\n",
       "    <tr>\n",
       "      <th>7</th>\n",
       "      <td>Apple iPhone 16 Plus</td>\n",
       "      <td>128 GB</td>\n",
       "      <td>Black</td>\n",
       "      <td>4.6</td>\n",
       "      <td>143</td>\n",
       "      <td>89900</td>\n",
       "      <td>84900</td>\n",
       "      <td>5%</td>\n",
       "    </tr>\n",
       "    <tr>\n",
       "      <th>8</th>\n",
       "      <td>Apple iPhone 13</td>\n",
       "      <td>128 GB</td>\n",
       "      <td>Midnight</td>\n",
       "      <td>4.6</td>\n",
       "      <td>13,902</td>\n",
       "      <td>49900</td>\n",
       "      <td>44999</td>\n",
       "      <td>9%</td>\n",
       "    </tr>\n",
       "    <tr>\n",
       "      <th>9</th>\n",
       "      <td>Apple iPhone 13</td>\n",
       "      <td>128 GB</td>\n",
       "      <td>Blue</td>\n",
       "      <td>4.6</td>\n",
       "      <td>13,902</td>\n",
       "      <td>49900</td>\n",
       "      <td>44999</td>\n",
       "      <td>9%</td>\n",
       "    </tr>\n",
       "    <tr>\n",
       "      <th>10</th>\n",
       "      <td>Apple iPhone 16</td>\n",
       "      <td>128 GB</td>\n",
       "      <td>Ultramarine</td>\n",
       "      <td>4.6</td>\n",
       "      <td>704</td>\n",
       "      <td>79900</td>\n",
       "      <td>74900</td>\n",
       "      <td>6%</td>\n",
       "    </tr>\n",
       "    <tr>\n",
       "      <th>11</th>\n",
       "      <td>Apple iPhone 15</td>\n",
       "      <td>128 GB</td>\n",
       "      <td>Blue</td>\n",
       "      <td>4.6</td>\n",
       "      <td>9,296</td>\n",
       "      <td>69900</td>\n",
       "      <td>64400</td>\n",
       "      <td>7%</td>\n",
       "    </tr>\n",
       "    <tr>\n",
       "      <th>12</th>\n",
       "      <td>Apple iPhone 16</td>\n",
       "      <td>256 GB</td>\n",
       "      <td>Black</td>\n",
       "      <td>4.6</td>\n",
       "      <td>704</td>\n",
       "      <td>89900</td>\n",
       "      <td>84900</td>\n",
       "      <td>5%</td>\n",
       "    </tr>\n",
       "    <tr>\n",
       "      <th>13</th>\n",
       "      <td>Apple iPhone 16</td>\n",
       "      <td>256 GB</td>\n",
       "      <td>Ultramarine</td>\n",
       "      <td>4.6</td>\n",
       "      <td>704</td>\n",
       "      <td>89900</td>\n",
       "      <td>84900</td>\n",
       "      <td>5%</td>\n",
       "    </tr>\n",
       "    <tr>\n",
       "      <th>14</th>\n",
       "      <td>Apple iPhone 14</td>\n",
       "      <td>128 GB</td>\n",
       "      <td>Starlight</td>\n",
       "      <td>4.6</td>\n",
       "      <td>11,672</td>\n",
       "      <td>59900</td>\n",
       "      <td>54999</td>\n",
       "      <td>8%</td>\n",
       "    </tr>\n",
       "    <tr>\n",
       "      <th>15</th>\n",
       "      <td>Apple iPhone 16</td>\n",
       "      <td>256 GB</td>\n",
       "      <td>Pink</td>\n",
       "      <td>4.6</td>\n",
       "      <td>704</td>\n",
       "      <td>89900</td>\n",
       "      <td>84900</td>\n",
       "      <td>5%</td>\n",
       "    </tr>\n",
       "    <tr>\n",
       "      <th>16</th>\n",
       "      <td>Apple iPhone 16</td>\n",
       "      <td>256 GB</td>\n",
       "      <td>White</td>\n",
       "      <td>4.6</td>\n",
       "      <td>704</td>\n",
       "      <td>89900</td>\n",
       "      <td>84900</td>\n",
       "      <td>5%</td>\n",
       "    </tr>\n",
       "    <tr>\n",
       "      <th>17</th>\n",
       "      <td>Apple iPhone 15 Plus</td>\n",
       "      <td>256 GB</td>\n",
       "      <td>Green</td>\n",
       "      <td>4.6</td>\n",
       "      <td>2,541</td>\n",
       "      <td>89900</td>\n",
       "      <td>84900</td>\n",
       "      <td>5%</td>\n",
       "    </tr>\n",
       "    <tr>\n",
       "      <th>18</th>\n",
       "      <td>Apple iPhone 16 Pro</td>\n",
       "      <td>256 GB</td>\n",
       "      <td>Desert Titanium</td>\n",
       "      <td>4.7</td>\n",
       "      <td>104</td>\n",
       "      <td>129</td>\n",
       "      <td>122</td>\n",
       "      <td>5%</td>\n",
       "    </tr>\n",
       "    <tr>\n",
       "      <th>19</th>\n",
       "      <td>Apple iPhone 16 Plus</td>\n",
       "      <td>256 GB</td>\n",
       "      <td>Ultramarine</td>\n",
       "      <td>4.6</td>\n",
       "      <td>143</td>\n",
       "      <td>99900</td>\n",
       "      <td>94900</td>\n",
       "      <td>5%</td>\n",
       "    </tr>\n",
       "    <tr>\n",
       "      <th>20</th>\n",
       "      <td>Apple iPhone 16</td>\n",
       "      <td>256 GB</td>\n",
       "      <td>Teal</td>\n",
       "      <td>4.6</td>\n",
       "      <td>704</td>\n",
       "      <td>89900</td>\n",
       "      <td>84900</td>\n",
       "      <td>5%</td>\n",
       "    </tr>\n",
       "    <tr>\n",
       "      <th>21</th>\n",
       "      <td>Apple iPhone 16 Plus</td>\n",
       "      <td>128 GB</td>\n",
       "      <td>Teal</td>\n",
       "      <td>4.6</td>\n",
       "      <td>143</td>\n",
       "      <td>89900</td>\n",
       "      <td>84900</td>\n",
       "      <td>5%</td>\n",
       "    </tr>\n",
       "    <tr>\n",
       "      <th>22</th>\n",
       "      <td>Apple iPhone 16 Plus</td>\n",
       "      <td>256 GB</td>\n",
       "      <td>Pink</td>\n",
       "      <td>4.6</td>\n",
       "      <td>143</td>\n",
       "      <td>99900</td>\n",
       "      <td>94900</td>\n",
       "      <td>5%</td>\n",
       "    </tr>\n",
       "    <tr>\n",
       "      <th>23</th>\n",
       "      <td>Apple iPhone 15</td>\n",
       "      <td>256 GB</td>\n",
       "      <td>Pink</td>\n",
       "      <td>4.6</td>\n",
       "      <td>9,296</td>\n",
       "      <td>79900</td>\n",
       "      <td>74400</td>\n",
       "      <td>6%</td>\n",
       "    </tr>\n",
       "  </tbody>\n",
       "</table>\n",
       "</div>"
      ],
      "text/plain": [
       "                     Name  Memory            Color Stars Reviews  Old Price  \\\n",
       "0        Apple iPhone 16   128 GB            Black   4.6     704      79900   \n",
       "1        Apple iPhone 16   128 GB             Pink   4.6     704      79900   \n",
       "2        Apple iPhone 13   128 GB        Starlight   4.6  13,902      49900   \n",
       "3        Apple iPhone 16   128 GB            White   4.6     704      79900   \n",
       "4   Apple iPhone 16 Plus   128 GB            White   4.6     143      89900   \n",
       "5       Apple iPhone 16e   128 GB            White   4.6      51      59900   \n",
       "6        Apple iPhone 16   128 GB             Teal   4.6     704      79900   \n",
       "7   Apple iPhone 16 Plus   128 GB            Black   4.6     143      89900   \n",
       "8        Apple iPhone 13   128 GB         Midnight   4.6  13,902      49900   \n",
       "9        Apple iPhone 13   128 GB             Blue   4.6  13,902      49900   \n",
       "10       Apple iPhone 16   128 GB      Ultramarine   4.6     704      79900   \n",
       "11       Apple iPhone 15   128 GB             Blue   4.6   9,296      69900   \n",
       "12       Apple iPhone 16   256 GB            Black   4.6     704      89900   \n",
       "13       Apple iPhone 16   256 GB      Ultramarine   4.6     704      89900   \n",
       "14       Apple iPhone 14   128 GB        Starlight   4.6  11,672      59900   \n",
       "15       Apple iPhone 16   256 GB             Pink   4.6     704      89900   \n",
       "16       Apple iPhone 16   256 GB            White   4.6     704      89900   \n",
       "17  Apple iPhone 15 Plus   256 GB            Green   4.6   2,541      89900   \n",
       "18   Apple iPhone 16 Pro   256 GB  Desert Titanium   4.7     104        129   \n",
       "19  Apple iPhone 16 Plus   256 GB      Ultramarine   4.6     143      99900   \n",
       "20       Apple iPhone 16   256 GB             Teal   4.6     704      89900   \n",
       "21  Apple iPhone 16 Plus   128 GB             Teal   4.6     143      89900   \n",
       "22  Apple iPhone 16 Plus   256 GB             Pink   4.6     143      99900   \n",
       "23       Apple iPhone 15   256 GB             Pink   4.6   9,296      79900   \n",
       "\n",
       "    New Price Discount  \n",
       "0       74900       6%  \n",
       "1       74900       6%  \n",
       "2       44999       9%  \n",
       "3       74900       6%  \n",
       "4       84900       5%  \n",
       "5       54900       8%  \n",
       "6       74900       6%  \n",
       "7       84900       5%  \n",
       "8       44999       9%  \n",
       "9       44999       9%  \n",
       "10      74900       6%  \n",
       "11      64400       7%  \n",
       "12      84900       5%  \n",
       "13      84900       5%  \n",
       "14      54999       8%  \n",
       "15      84900       5%  \n",
       "16      84900       5%  \n",
       "17      84900       5%  \n",
       "18        122       5%  \n",
       "19      94900       5%  \n",
       "20      84900       5%  \n",
       "21      84900       5%  \n",
       "22      94900       5%  \n",
       "23      74400       6%  "
      ]
     },
     "execution_count": 42,
     "metadata": {},
     "output_type": "execute_result"
    }
   ],
   "source": [
    "df=pd.DataFrame(dic)\n",
    "df"
   ]
  },
  {
   "cell_type": "code",
   "execution_count": 43,
   "metadata": {},
   "outputs": [],
   "source": [
    "df.to_csv('new_exam.csv',index = None)"
   ]
  },
  {
   "cell_type": "markdown",
   "metadata": {},
   "source": [
    "# New Task ,, IPL Auction"
   ]
  },
  {
   "cell_type": "code",
   "execution_count": 44,
   "metadata": {},
   "outputs": [],
   "source": [
    "with open ('IPL Auction.html', 'r', encoding = 'utf-8') as f:\n",
    "    data  = f.read()\n",
    "    \n",
    "soup = BeautifulSoup(data)"
   ]
  },
  {
   "cell_type": "code",
   "execution_count": 45,
   "metadata": {},
   "outputs": [
    {
     "name": "stderr",
     "output_type": "stream",
     "text": [
      "/tmp/ipykernel_11341/2189712507.py:3: DeprecationWarning: Call to deprecated method findAll. (Replaced by find_all) -- Deprecated since version 4.0.0.\n",
      "  for i in soup.findAll('table', class_='ih-td-tab auction-tbl'):\n"
     ]
    },
    {
     "ename": "AttributeError",
     "evalue": "'NoneType' object has no attribute 'text'",
     "output_type": "error",
     "traceback": [
      "\u001b[31m---------------------------------------------------------------------------\u001b[39m",
      "\u001b[31mAttributeError\u001b[39m                            Traceback (most recent call last)",
      "\u001b[36mCell\u001b[39m\u001b[36m \u001b[39m\u001b[32mIn[45]\u001b[39m\u001b[32m, line 4\u001b[39m\n\u001b[32m      1\u001b[39m dic = {\u001b[33m'\u001b[39m\u001b[33mTeam\u001b[39m\u001b[33m'\u001b[39m:[], \u001b[33m'\u001b[39m\u001b[33mPlayer\u001b[39m\u001b[33m'\u001b[39m:[], \u001b[33m'\u001b[39m\u001b[33mType\u001b[39m\u001b[33m'\u001b[39m:[], \u001b[33m'\u001b[39m\u001b[33mPrice\u001b[39m\u001b[33m'\u001b[39m:[]}\n\u001b[32m      3\u001b[39m \u001b[38;5;28;01mfor\u001b[39;00m i \u001b[38;5;129;01min\u001b[39;00m soup.findAll(\u001b[33m'\u001b[39m\u001b[33mtable\u001b[39m\u001b[33m'\u001b[39m, class_=\u001b[33m'\u001b[39m\u001b[33mih-td-tab auction-tbl\u001b[39m\u001b[33m'\u001b[39m):\n\u001b[32m----> \u001b[39m\u001b[32m4\u001b[39m     dic[\u001b[33m'\u001b[39m\u001b[33mTeam\u001b[39m\u001b[33m'\u001b[39m].append(\u001b[43mi\u001b[49m\u001b[43m.\u001b[49m\u001b[43mfind\u001b[49m\u001b[43m(\u001b[49m\u001b[33;43m'\u001b[39;49m\u001b[33;43mtd\u001b[39;49m\u001b[33;43m'\u001b[39;49m\u001b[43m,\u001b[49m\u001b[43m \u001b[49m\u001b[43mclass_\u001b[49m\u001b[43m=\u001b[49m\u001b[33;43m'\u001b[39;49m\u001b[33;43mih-t-color\u001b[39;49m\u001b[33;43m'\u001b[39;49m\u001b[43m)\u001b[49m\u001b[43m.\u001b[49m\u001b[43mtext\u001b[49m)\n\u001b[32m      6\u001b[39m dic[\u001b[33m'\u001b[39m\u001b[33mTeam\u001b[39m\u001b[33m'\u001b[39m]\n",
      "\u001b[31mAttributeError\u001b[39m: 'NoneType' object has no attribute 'text'"
     ]
    }
   ],
   "source": [
    "dic = {'Team':[], 'Player':[], 'Type':[], 'Price':[]}\n",
    "\n",
    "for i in soup.findAll('table', class_='ih-td-tab auction-tbl'):\n",
    "    dic['Team'].append(i.find('td', class_='ih-t-color').text)\n",
    "    \n",
    "dic['Team']"
   ]
  },
  {
   "cell_type": "code",
   "execution_count": null,
   "metadata": {},
   "outputs": [
    {
     "data": {
      "text/plain": [
       "21"
      ]
     },
     "execution_count": 57,
     "metadata": {},
     "output_type": "execute_result"
    }
   ],
   "source": [
    "team = soup.findAll('h2', class_='ih-pt-cont')\n",
    "len(team)"
   ]
  },
  {
   "cell_type": "markdown",
   "metadata": {},
   "source": [
    "# Trumplies.html ,, (Question in exam.docx uploaded on git)"
   ]
  },
  {
   "cell_type": "code",
   "execution_count": null,
   "metadata": {},
   "outputs": [],
   "source": [
    "with open ('TrumpLies.html', 'r', encoding = 'utf-8') as f:\n",
    "    data  = f.read()\n",
    "    \n",
    "soup = BeautifulSoup(data)"
   ]
  },
  {
   "cell_type": "code",
   "execution_count": null,
   "metadata": {},
   "outputs": [
    {
     "name": "stderr",
     "output_type": "stream",
     "text": [
      "/tmp/ipykernel_11341/1150185122.py:1: DeprecationWarning: Call to deprecated method findAll. (Replaced by find_all) -- Deprecated since version 4.0.0.\n",
      "  title  = soup.findAll('h1', class_=\"custom-hed story-heading interactive-headline\")\n"
     ]
    },
    {
     "data": {
      "text/plain": [
       "[]"
      ]
     },
     "execution_count": 46,
     "metadata": {},
     "output_type": "execute_result"
    }
   ],
   "source": [
    "title  = soup.findAll('h1', class_=\"custom-hed story-heading interactive-headline\")"
   ]
  },
  {
   "cell_type": "code",
   "execution_count": null,
   "metadata": {},
   "outputs": [],
   "source": []
  }
 ],
 "metadata": {
  "kernelspec": {
   "display_name": "Python 3",
   "language": "python",
   "name": "python3"
  },
  "language_info": {
   "codemirror_mode": {
    "name": "ipython",
    "version": 3
   },
   "file_extension": ".py",
   "mimetype": "text/x-python",
   "name": "python",
   "nbconvert_exporter": "python",
   "pygments_lexer": "ipython3",
   "version": "3.12.1"
  }
 },
 "nbformat": 4,
 "nbformat_minor": 4
}
